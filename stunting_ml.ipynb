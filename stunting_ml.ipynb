{
  "cells": [
    {
      "cell_type": "code",
      "execution_count": null,
      "id": "fd3e1612-b85d-4b54-9147-102c7ef530f8",
      "metadata": {
        "ExecuteTime": {
          "end_time": "2023-10-15T09:31:29.413315+00:00",
          "start_time": "2023-10-15T09:31:28.489642+00:00"
        },
        "noteable": {
          "cell_type": "code"
        }
      },
      "outputs": [],
      "source": [
        "import pandas as pd\n",
        "import numpy as np\n",
        "import matplotlib.pyplot as plt\n",
        "import seaborn as sns\n",
        "from sklearn.model_selection import train_test_split\n",
        "from sklearn.ensemble import RandomForestClassifier\n",
        "from sklearn.linear_model import LogisticRegression, RidgeClassifier, Lasso\n",
        "from sklearn.svm import SVC\n",
        "from sklearn.neighbors import KNeighborsClassifier\n",
        "from sklearn.naive_bayes import GaussianNB\n",
        "from sklearn.metrics import roc_curve, auc, classification_report, accuracy_score\n",
        "from xgboost import XGBClassifier\n",
        "from sklearn.neural_network import MLPClassifier\n",
        "\n",
        "# Load the dataset\n",
        "df = pd.read_csv('data/df.csv')\n",
        "df.head()"
      ]
    },
    {
      "cell_type": "code",
      "execution_count": null,
      "id": "de480a3e-526c-4115-bcf6-c4b192ed6c81",
      "metadata": {
        "noteable": {
          "cell_type": "code"
        }
      },
      "outputs": [],
      "source": [
        "# Splitting the data into training and test sets\n",
        "X = df.drop('stunting', axis=1)\n",
        "y = df['stunting']\n",
        "X_train, X_test, y_train, y_test = train_test_split(X, y, test_size=0.3, random_state=42)\n",
        "\n",
        "# Using a base Random Forest model to identify important features\n",
        "rf = RandomForestClassifier(random_state=42)\n",
        "rf.fit(X_train, y_train)\n",
        "feature_importances = rf.feature_importances_\n",
        "features = X.columns\n",
        "important_features = pd.Series(feature_importances, index=features).nlargest(5)\n",
        "important_features"
      ]
    },
    {
      "cell_type": "code",
      "execution_count": null,
      "id": "38718f73-da83-4d87-b18d-b606c3cbf11e",
      "metadata": {
        "noteable": {
          "cell_type": "code"
        }
      },
      "outputs": [],
      "source": [
        "# Selecting the top 5 important features for training\n",
        "selected_features = important_features.index.tolist()\n",
        "X_train_selected = X_train[selected_features]\n",
        "X_test_selected = X_test[selected_features]\n",
        "\n",
        "# Initializing models\n",
        "models = {\n",
        "    'Logistic Regression': LogisticRegression(max_iter=1000, random_state=42),\n",
        "    'Ridge Regression': RidgeClassifier(random_state=42),\n",
        "    'LASSO': Lasso(alpha=0.1),\n",
        "    'SVM': SVC(probability=True, random_state=42),\n",
        "    'XGBoost': XGBClassifier(random_state=42),\n",
        "    'Naive Bayes': GaussianNB(),\n",
        "    'Neural Network': MLPClassifier(max_iter=1000, random_state=42),\n",
        "    'KNN': KNeighborsClassifier()\n",
        "}\n",
        "\n",
        "# Training and evaluating models\n",
        "results = {}\n",
        "for name, model in models.items():\n",
        "    model.fit(X_train_selected, y_train)\n",
        "    y_pred = model.predict(X_test_selected)\n",
        "    accuracy = accuracy_score(y_test, y_pred)\n",
        "    results[name] = accuracy\n",
        "\n",
        "results"
      ]
    },
    {
      "cell_type": "code",
      "execution_count": null,
      "id": "94ca3bdd-63ba-408c-b3c8-6147ebdff26c",
      "metadata": {
        "noteable": {
          "cell_type": "code"
        }
      },
      "outputs": [],
      "source": [
        "# Visualizing the accuracy of each model\n",
        "plt.figure(figsize=(12, 6))\n",
        "sns.barplot(x=list(results.keys()), y=list(results.values()))\n",
        "plt.ylabel('Accuracy')\n",
        "plt.title('Model Accuracy Comparison')\n",
        "plt.xticks(rotation=45)\n",
        "plt.tight_layout()\n",
        "plt.show()"
      ]
    },
    {
      "cell_type": "code",
      "execution_count": null,
      "id": "1a2abedc-426d-4a44-85e5-dd2588ad9ecc",
      "metadata": {
        "noteable": {
          "cell_type": "code"
        }
      },
      "outputs": [],
      "source": [
        "# Plotting ROC curves for each model\n",
        "plt.figure(figsize=(12, 8))\n",
        "\n",
        "for name, model in models.items():\n",
        "    # Predict probabilities\n",
        "    probas = model.predict_proba(X_test_selected)\n",
        "    fpr, tpr, thresholds = roc_curve(y_test, probas[:, 1])\n",
        "    roc_auc = auc(fpr, tpr)\n",
        "    plt.plot(fpr, tpr, label='%s (AUC = %0.2f)' % (name, roc_auc))\n",
        "\n",
        "plt.plot([0, 1], [0, 1], 'k--')\n",
        "plt.xlim([0.0, 1.0])\n",
        "plt.ylim([0.0, 1.05])\n",
        "plt.xlabel('False Positive Rate')\n",
        "plt.ylabel('True Positive Rate')\n",
        "plt.title('Receiver Operating Characteristic (ROC)')\n",
        "plt.legend(loc='lower right')\n",
        "plt.tight_layout()\n",
        "plt.show()"
      ]
    },
    {
      "cell_type": "markdown",
      "id": "1231093c-021e-48a8-b0ad-a06b1280dc9e",
      "metadata": {
        "noteable": {
          "cell_type": "markdown"
        }
      },
      "source": [
        "## Model Recommendation\n",
        "Based on the accuracy results and the AUC values from the ROC curves, we can make a recommendation on the best model for predicting stunting.\n",
        "\n",
        "The model with the highest accuracy and AUC value will be considered the best model for this task. Let's analyze the results and provide a recommendation."
      ]
    }
  ],
  "metadata": {
    "kernel_info": {
      "name": "python3"
    },
    "kernelspec": {
      "display_name": "Python 3.9",
      "identifier": "legacy",
      "language": "python",
      "language_version": "3.9",
      "name": "python3"
    },
    "language_info": {
      "name": "python",
      "version": "3.11.3"
    },
    "noteable": {
      "last_delta_id": "ce031349-4928-4339-8978-c23931fe05e4"
    },
    "nteract": {
      "version": "noteable@2.9.0"
    },
    "selected_hardware_size": "small"
  },
  "nbformat": 4,
  "nbformat_minor": 5
}
