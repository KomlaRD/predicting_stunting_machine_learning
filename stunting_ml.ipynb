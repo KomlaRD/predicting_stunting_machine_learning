{
  "cells": [
    {
      "cell_type": "code",
      "execution_count": 7,
      "id": "fd3e1612-b85d-4b54-9147-102c7ef530f8",
      "metadata": {
        "ExecuteTime": {
          "end_time": "2023-10-15T09:31:29.413315+00:00",
          "start_time": "2023-10-15T09:31:28.489642+00:00"
        },
        "noteable": {
          "cell_type": "code"
        }
      },
      "outputs": [
        {
          "data": {
            "text/html": [
              "<div>\n",
              "<style scoped>\n",
              "    .dataframe tbody tr th:only-of-type {\n",
              "        vertical-align: middle;\n",
              "    }\n",
              "\n",
              "    .dataframe tbody tr th {\n",
              "        vertical-align: top;\n",
              "    }\n",
              "\n",
              "    .dataframe thead th {\n",
              "        text-align: right;\n",
              "    }\n",
              "</style>\n",
              "<table border=\"1\" class=\"dataframe\">\n",
              "  <thead>\n",
              "    <tr style=\"text-align: right;\">\n",
              "      <th></th>\n",
              "      <th>child_had_diarrhoea_last_two_weeks</th>\n",
              "      <th>child_ill_fever_two_weeks</th>\n",
              "      <th>child_ill_cough_two_weeks</th>\n",
              "      <th>child_weight_kg</th>\n",
              "      <th>child_lenhei_cm</th>\n",
              "      <th>area</th>\n",
              "      <th>region</th>\n",
              "      <th>sex</th>\n",
              "      <th>age_months</th>\n",
              "      <th>age_months_6</th>\n",
              "      <th>age_months_11</th>\n",
              "      <th>age_days</th>\n",
              "      <th>mother_educational_level</th>\n",
              "      <th>health_insurance</th>\n",
              "      <th>mother_functional_disability_18_49</th>\n",
              "      <th>ethnicity</th>\n",
              "      <th>combined_wealth_score</th>\n",
              "      <th>wealth_index_quintile</th>\n",
              "      <th>wealth_index_decile</th>\n",
              "      <th>stunting</th>\n",
              "    </tr>\n",
              "  </thead>\n",
              "  <tbody>\n",
              "    <tr>\n",
              "      <th>0</th>\n",
              "      <td>No</td>\n",
              "      <td>No</td>\n",
              "      <td>No</td>\n",
              "      <td>9.5</td>\n",
              "      <td>77.8</td>\n",
              "      <td>Rural</td>\n",
              "      <td>Western</td>\n",
              "      <td>Male</td>\n",
              "      <td>20</td>\n",
              "      <td>12-23</td>\n",
              "      <td>12-23</td>\n",
              "      <td>622</td>\n",
              "      <td>Jss/jhs/middle</td>\n",
              "      <td>With insurance</td>\n",
              "      <td>Has no functional difficulty</td>\n",
              "      <td>Akan</td>\n",
              "      <td>0.153212</td>\n",
              "      <td>Middle</td>\n",
              "      <td>6th decile</td>\n",
              "      <td>Stunting</td>\n",
              "    </tr>\n",
              "    <tr>\n",
              "      <th>1</th>\n",
              "      <td>Yes</td>\n",
              "      <td>No</td>\n",
              "      <td>Yes</td>\n",
              "      <td>7.0</td>\n",
              "      <td>70.6</td>\n",
              "      <td>Rural</td>\n",
              "      <td>Western</td>\n",
              "      <td>Female</td>\n",
              "      <td>14</td>\n",
              "      <td>12-23</td>\n",
              "      <td>12-23</td>\n",
              "      <td>431</td>\n",
              "      <td>Primary</td>\n",
              "      <td>Without insurance</td>\n",
              "      <td>Has functional difficulty</td>\n",
              "      <td>Akan</td>\n",
              "      <td>-0.068991</td>\n",
              "      <td>Middle</td>\n",
              "      <td>5th decile</td>\n",
              "      <td>Stunting</td>\n",
              "    </tr>\n",
              "    <tr>\n",
              "      <th>2</th>\n",
              "      <td>No</td>\n",
              "      <td>Yes</td>\n",
              "      <td>No</td>\n",
              "      <td>11.9</td>\n",
              "      <td>95.3</td>\n",
              "      <td>Rural</td>\n",
              "      <td>Western</td>\n",
              "      <td>Female</td>\n",
              "      <td>42</td>\n",
              "      <td>36-47</td>\n",
              "      <td>36-47</td>\n",
              "      <td>1295</td>\n",
              "      <td>Jss/jhs/middle</td>\n",
              "      <td>Without insurance</td>\n",
              "      <td>Has no functional difficulty</td>\n",
              "      <td>Akan</td>\n",
              "      <td>-0.263641</td>\n",
              "      <td>Middle</td>\n",
              "      <td>5th decile</td>\n",
              "      <td>Normal</td>\n",
              "    </tr>\n",
              "    <tr>\n",
              "      <th>3</th>\n",
              "      <td>No</td>\n",
              "      <td>Yes</td>\n",
              "      <td>No</td>\n",
              "      <td>9.8</td>\n",
              "      <td>78.6</td>\n",
              "      <td>Rural</td>\n",
              "      <td>Western</td>\n",
              "      <td>Female</td>\n",
              "      <td>17</td>\n",
              "      <td>12-23</td>\n",
              "      <td>12-23</td>\n",
              "      <td>532</td>\n",
              "      <td>Jss/jhs/middle</td>\n",
              "      <td>Without insurance</td>\n",
              "      <td>Has no functional difficulty</td>\n",
              "      <td>Akan</td>\n",
              "      <td>-0.263641</td>\n",
              "      <td>Middle</td>\n",
              "      <td>5th decile</td>\n",
              "      <td>Normal</td>\n",
              "    </tr>\n",
              "    <tr>\n",
              "      <th>4</th>\n",
              "      <td>No</td>\n",
              "      <td>No</td>\n",
              "      <td>Yes</td>\n",
              "      <td>14.9</td>\n",
              "      <td>100.1</td>\n",
              "      <td>Rural</td>\n",
              "      <td>Western</td>\n",
              "      <td>Male</td>\n",
              "      <td>52</td>\n",
              "      <td>48-59</td>\n",
              "      <td>48-59</td>\n",
              "      <td>1607</td>\n",
              "      <td>Primary</td>\n",
              "      <td>With insurance</td>\n",
              "      <td>Has no functional difficulty</td>\n",
              "      <td>Akan</td>\n",
              "      <td>0.087765</td>\n",
              "      <td>Middle</td>\n",
              "      <td>6th decile</td>\n",
              "      <td>Normal</td>\n",
              "    </tr>\n",
              "  </tbody>\n",
              "</table>\n",
              "</div>"
            ],
            "text/plain": [
              "  child_had_diarrhoea_last_two_weeks child_ill_fever_two_weeks  \\\n",
              "0                                 No                        No   \n",
              "1                                Yes                        No   \n",
              "2                                 No                       Yes   \n",
              "3                                 No                       Yes   \n",
              "4                                 No                        No   \n",
              "\n",
              "  child_ill_cough_two_weeks  child_weight_kg  child_lenhei_cm   area   region  \\\n",
              "0                        No              9.5             77.8  Rural  Western   \n",
              "1                       Yes              7.0             70.6  Rural  Western   \n",
              "2                        No             11.9             95.3  Rural  Western   \n",
              "3                        No              9.8             78.6  Rural  Western   \n",
              "4                       Yes             14.9            100.1  Rural  Western   \n",
              "\n",
              "      sex  age_months age_months_6 age_months_11  age_days  \\\n",
              "0    Male          20        12-23         12-23       622   \n",
              "1  Female          14        12-23         12-23       431   \n",
              "2  Female          42        36-47         36-47      1295   \n",
              "3  Female          17        12-23         12-23       532   \n",
              "4    Male          52        48-59         48-59      1607   \n",
              "\n",
              "  mother_educational_level   health_insurance  \\\n",
              "0           Jss/jhs/middle     With insurance   \n",
              "1                  Primary  Without insurance   \n",
              "2           Jss/jhs/middle  Without insurance   \n",
              "3           Jss/jhs/middle  Without insurance   \n",
              "4                  Primary     With insurance   \n",
              "\n",
              "  mother_functional_disability_18_49 ethnicity  combined_wealth_score  \\\n",
              "0       Has no functional difficulty      Akan               0.153212   \n",
              "1          Has functional difficulty      Akan              -0.068991   \n",
              "2       Has no functional difficulty      Akan              -0.263641   \n",
              "3       Has no functional difficulty      Akan              -0.263641   \n",
              "4       Has no functional difficulty      Akan               0.087765   \n",
              "\n",
              "  wealth_index_quintile wealth_index_decile  stunting  \n",
              "0                Middle          6th decile  Stunting  \n",
              "1                Middle          5th decile  Stunting  \n",
              "2                Middle          5th decile    Normal  \n",
              "3                Middle          5th decile    Normal  \n",
              "4                Middle          6th decile    Normal  "
            ]
          },
          "execution_count": 7,
          "metadata": {},
          "output_type": "execute_result"
        }
      ],
      "source": [
        "import pandas as pd\n",
        "import numpy as np\n",
        "import matplotlib.pyplot as plt\n",
        "import seaborn as sns\n",
        "from sklearn.model_selection import train_test_split\n",
        "from sklearn.preprocessing import LabelEncoder\n",
        "from sklearn.ensemble import RandomForestClassifier\n",
        "from sklearn.linear_model import LogisticRegression, RidgeClassifier, Lasso\n",
        "from sklearn.svm import SVC\n",
        "from sklearn.neighbors import KNeighborsClassifier\n",
        "from sklearn.naive_bayes import GaussianNB\n",
        "from sklearn.metrics import roc_curve, auc, classification_report, accuracy_score\n",
        "from xgboost import XGBClassifier\n",
        "from sklearn.neural_network import MLPClassifier\n",
        "\n",
        "# Load the dataset\n",
        "df = pd.read_csv('data/df.csv')\n",
        "df.head()"
      ]
    },
    {
      "cell_type": "code",
      "execution_count": 9,
      "id": "de480a3e-526c-4115-bcf6-c4b192ed6c81",
      "metadata": {
        "noteable": {
          "cell_type": "code"
        }
      },
      "outputs": [
        {
          "data": {
            "text/plain": [
              "((6071, 19), (2603, 19), (6071,), (2603,))"
            ]
          },
          "execution_count": 9,
          "metadata": {},
          "output_type": "execute_result"
        }
      ],
      "source": [
        "# Encode categorical variables\n",
        "label_encoders = {}\n",
        "for column in df.select_dtypes(include=['object']).columns:\n",
        "    le = LabelEncoder()\n",
        "    df[column] = le.fit_transform(df[column])\n",
        "    label_encoders[column] = le\n",
        "    \n",
        "# Splitting the data into training and test sets\n",
        "X = df.drop('stunting', axis=1)\n",
        "y = df['stunting']\n",
        "X_train, X_test, y_train, y_test = train_test_split(X, y, test_size=0.3, random_state=42)\n",
        "\n",
        "# Display the shape of the training and testing sets\n",
        "X_train.shape, X_test.shape, y_train.shape, y_test.shape"
      ]
    },
    {
      "cell_type": "code",
      "execution_count": 10,
      "id": "adb2997a",
      "metadata": {},
      "outputs": [
        {
          "data": {
            "text/plain": [
              "child_lenhei_cm          0.310172\n",
              "age_days                 0.154017\n",
              "child_weight_kg          0.128284\n",
              "age_months               0.106560\n",
              "combined_wealth_score    0.060253\n",
              "dtype: float64"
            ]
          },
          "execution_count": 10,
          "metadata": {},
          "output_type": "execute_result"
        }
      ],
      "source": [
        "# Using a base Random Forest model to identify important features\n",
        "rf = RandomForestClassifier(random_state=42)\n",
        "rf.fit(X_train, y_train)\n",
        "feature_importances = rf.feature_importances_\n",
        "features = X.columns\n",
        "important_features = pd.Series(feature_importances, index=features).nlargest(5)\n",
        "important_features"
      ]
    },
    {
      "cell_type": "code",
      "execution_count": 12,
      "id": "7def184d",
      "metadata": {},
      "outputs": [
        {
          "data": {
            "image/png": "[encoded data removed]",
            "text/plain": [
              "<Figure size 1200x800 with 1 Axes>"
            ]
          },
          "metadata": {},
          "output_type": "display_data"
        }
      ],
      "source": [
        "# Plot feature importances\n",
        "plt.figure(figsize=(12, 8))\n",
        "indices = np.argsort(important_features)[::-1]\n",
        "plt.title('Feature Importances')\n",
        "plt.barh(range(len(important_features)), important_features[indices], align='center')\n",
        "plt.yticks(range(len(important_features)), [important_features.index[i] for i in indices])\n",
        "plt.gca().invert_yaxis()\n",
        "plt.show()"
      ]
    },
    {
      "cell_type": "code",
      "execution_count": null,
      "id": "38718f73-da83-4d87-b18d-b606c3cbf11e",
      "metadata": {
        "noteable": {
          "cell_type": "code"
        }
      },
      "outputs": [],
      "source": [
        "# Selecting the top 5 important features for training\n",
        "selected_features = important_features.index.tolist()\n",
        "X_train_selected = X_train[selected_features]\n",
        "X_test_selected = X_test[selected_features]\n",
        "\n",
        "# Initializing models\n",
        "models = {\n",
        "    'Logistic Regression': LogisticRegression(max_iter=1000, random_state=42),\n",
        "    'Ridge Regression': RidgeClassifier(random_state=42),\n",
        "    'LASSO': Lasso(alpha=0.1),\n",
        "    'SVM': SVC(probability=True, random_state=42),\n",
        "    'XGBoost': XGBClassifier(random_state=42),\n",
        "    'Naive Bayes': GaussianNB(),\n",
        "    'Neural Network': MLPClassifier(max_iter=1000, random_state=42),\n",
        "    'KNN': KNeighborsClassifier()\n",
        "}\n",
        "\n",
        "# Training and evaluating models\n",
        "results = {}\n",
        "for name, model in models.items():\n",
        "    model.fit(X_train_selected, y_train)\n",
        "    y_pred = model.predict(X_test_selected)\n",
        "    accuracy = accuracy_score(y_test, y_pred)\n",
        "    results[name] = accuracy\n",
        "\n",
        "results"
      ]
    },
    {
      "cell_type": "code",
      "execution_count": null,
      "id": "94ca3bdd-63ba-408c-b3c8-6147ebdff26c",
      "metadata": {
        "noteable": {
          "cell_type": "code"
        }
      },
      "outputs": [],
      "source": [
        "# Visualizing the accuracy of each model\n",
        "plt.figure(figsize=(12, 6))\n",
        "sns.barplot(x=list(results.keys()), y=list(results.values()))\n",
        "plt.ylabel('Accuracy')\n",
        "plt.title('Model Accuracy Comparison')\n",
        "plt.xticks(rotation=45)\n",
        "plt.tight_layout()\n",
        "plt.show()"
      ]
    },
    {
      "cell_type": "code",
      "execution_count": null,
      "id": "1a2abedc-426d-4a44-85e5-dd2588ad9ecc",
      "metadata": {
        "noteable": {
          "cell_type": "code"
        }
      },
      "outputs": [],
      "source": [
        "# Plotting ROC curves for each model\n",
        "plt.figure(figsize=(12, 8))\n",
        "\n",
        "for name, model in models.items():\n",
        "    # Predict probabilities\n",
        "    probas = model.predict_proba(X_test_selected)\n",
        "    fpr, tpr, thresholds = roc_curve(y_test_encoded, probas[:, 1])\n",
        "    roc_auc = auc(fpr, tpr)\n",
        "    plt.plot(fpr, tpr, label='%s (AUC = %0.2f)' % (name, roc_auc))\n",
        "\n",
        "plt.plot([0, 1], [0, 1], 'k--')\n",
        "plt.xlim([0.0, 1.0])\n",
        "plt.ylim([0.0, 1.05])\n",
        "plt.xlabel('False Positive Rate')\n",
        "plt.ylabel('True Positive Rate')\n",
        "plt.title('Receiver Operating Characteristic (ROC)')\n",
        "plt.legend(loc='lower right')\n",
        "plt.tight_layout()\n",
        "plt.show()"
      ]
    },
    {
      "cell_type": "markdown",
      "id": "1231093c-021e-48a8-b0ad-a06b1280dc9e",
      "metadata": {
        "noteable": {
          "cell_type": "markdown"
        }
      },
      "source": [
        "## Model Recommendation\n",
        "Based on the accuracy results and the AUC values from the ROC curves, we can make a recommendation on the best model for predicting stunting.\n",
        "\n",
        "The model with the highest accuracy and AUC value will be considered the best model for this task. Let's analyze the results and provide a recommendation."
      ]
    }
  ],
  "metadata": {
    "kernel_info": {
      "name": "python3"
    },
    "kernelspec": {
      "display_name": "Python 3.9",
      "identifier": "legacy",
      "language": "python",
      "language_version": "3.9",
      "name": "python3"
    },
    "language_info": {
      "codemirror_mode": {
        "name": "ipython",
        "version": 3
      },
      "file_extension": ".py",
      "mimetype": "text/x-python",
      "name": "python",
      "nbconvert_exporter": "python",
      "pygments_lexer": "ipython3",
      "version": "3.11.3"
    },
    "noteable": {
      "last_delta_id": "ce031349-4928-4339-8978-c23931fe05e4"
    },
    "nteract": {
      "version": "noteable@2.9.0"
    },
    "selected_hardware_size": "small"
  },
  "nbformat": 4,
  "nbformat_minor": 5
}
