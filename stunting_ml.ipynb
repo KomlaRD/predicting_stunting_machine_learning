{
 "cells": [
  {
   "cell_type": "code",
   "execution_count": null,
   "metadata": {},
   "outputs": [],
   "source": [
    "# Import libraries and packages\n",
    "import pandas as pd # Data manipulation\n",
    "import numpy as np\n",
    "import matplotlib.pyplot as plt # Plots\n",
    "import seaborn as sns # Plots\n",
    "import pyreadr as pr # Read R data files\n",
    "\n",
    "# Import machine learning packages"
   ]
  }
 ],
 "metadata": {
  "kernelspec": {
   "display_name": "stunting-ml",
   "language": "python",
   "name": "python3"
  },
  "language_info": {
   "name": "python",
   "version": "3.11.3"
  },
  "orig_nbformat": 4
 },
 "nbformat": 4,
 "nbformat_minor": 2
}
